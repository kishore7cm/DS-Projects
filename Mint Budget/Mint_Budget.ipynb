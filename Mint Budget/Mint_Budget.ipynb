{
 "cells": [
  {
   "cell_type": "code",
   "execution_count": 1,
   "id": "bec2b578",
   "metadata": {},
   "outputs": [],
   "source": [
    "import pandas as pd\n",
    "from openpyxl import Workbook\n",
    "from openpyxl.utils.dataframe import dataframe_to_rows\n",
    "from openpyxl.drawing.image import Image\n",
    "import matplotlib.pyplot as plt\n",
    "from datetime import datetime\n",
    "import io\n",
    "from openpyxl.utils import get_column_letter"
   ]
  },
  {
   "cell_type": "code",
   "execution_count": 2,
   "id": "e74a5b0d",
   "metadata": {},
   "outputs": [],
   "source": [
    "df = pd.read_csv(r'transactions.csv')\n",
    "\n",
    "# Convert the 'Date' column to datetime format\n",
    "df['Date'] = pd.to_datetime(df['Date'])\n",
    "\n",
    "# Filter out \"Credit Card Payment\" category\n",
    "df = df[df['Category'] != 'Credit Card Payment']"
   ]
  },
  {
   "cell_type": "code",
   "execution_count": 3,
   "id": "a3fa5426",
   "metadata": {},
   "outputs": [],
   "source": [
    "# Filter out credit card payments and separate debit transactions as expenses and credit transactions as income\n",
    "expenses_df = df[df['Transaction Type'] == 'debit'].copy()\n",
    "income_df = df[df['Transaction Type'] == 'credit'].copy()"
   ]
  },
  {
   "cell_type": "code",
   "execution_count": 4,
   "id": "e7e39e1e",
   "metadata": {},
   "outputs": [],
   "source": [
    "# Get unique categories from both expenses and income\n",
    "unique_categories_expenses = set(expenses_df['Category'])\n",
    "unique_categories_income = set(income_df['Category'])"
   ]
  },
  {
   "cell_type": "code",
   "execution_count": 5,
   "id": "ce54768a",
   "metadata": {},
   "outputs": [],
   "source": [
    "# Set up a function to create budget Excel files and a dashboard sheet\n",
    "def create_budget_excel(expenses, income, time_period):\n",
    "    # Pivot expenses transactions based on the time period (weekly, monthly, yearly)\n",
    "    pivoted_expenses = pd.pivot_table(expenses, index='Category', columns=pd.Grouper(key='Date', freq=time_period), values='Amount', aggfunc='sum', fill_value=0)\n",
    "    \n",
    "    # Pivot income transactions based on the time period (weekly, monthly, yearly)\n",
    "    pivoted_income = pd.pivot_table(income, index='Category', columns=pd.Grouper(key='Date', freq=time_period), values='Amount', aggfunc='sum', fill_value=0)\n",
    "    \n",
    "    # Create a new Excel workbook\n",
    "    wb = Workbook()\n",
    "    \n",
    "    # Create Transactions sheet for expenses\n",
    "    ws_transactions_expenses = wb.create_sheet(title=\"Transactions (Expenses)\")\n",
    "    ws_transactions_expenses.append(expenses.columns.tolist())\n",
    "    for row in dataframe_to_rows(expenses, index=False, header=False):\n",
    "        ws_transactions_expenses.append(row)\n",
    "    \n",
    "    # Create Transactions sheet for income\n",
    "    ws_transactions_income = wb.create_sheet(title=\"Transactions (Income)\")\n",
    "    ws_transactions_income.append(income.columns.tolist())\n",
    "    for row in dataframe_to_rows(income, index=False, header=False):\n",
    "        ws_transactions_income.append(row)\n",
    "    \n",
    "    # Create Summary sheet for expenses\n",
    "    ws_summary_expenses = wb.create_sheet(title=\"Summary (Expenses)\")\n",
    "    for row in dataframe_to_rows(pivoted_expenses, index=True, header=True):\n",
    "        ws_summary_expenses.append(row)\n",
    "    \n",
    "    # Create Summary sheet for income\n",
    "    ws_summary_income = wb.create_sheet(title=\"Summary (Income)\")\n",
    "    for row in dataframe_to_rows(pivoted_income, index=True, header=True):\n",
    "        ws_summary_income.append(row)\n",
    "    \n",
    "    # Create a dashboard sheet for top ten categories with highest expenses\n",
    "    ws_dashboard_expenses = wb.create_sheet(title=\"Dashboard (Top Expenses)\")\n",
    "\n",
    "    # Calculate total expenses for each category\n",
    "    total_expenses = pivoted_expenses.sum(axis=1)  # Sum along rows (categories)\n",
    "\n",
    "    # Sort by expenses in descending order and select the top ten categories\n",
    "    top_expense_categories = total_expenses.nlargest(10).index\n",
    "\n",
    "    # Create a DataFrame for the top expense categories\n",
    "    top_expense_data = pd.DataFrame({\n",
    "        'Category': top_expense_categories,\n",
    "        'Total Expenses': total_expenses[top_expense_categories]\n",
    "    })\n",
    "\n",
    "    # Add the top expense data to the worksheet\n",
    "    for row in dataframe_to_rows(top_expense_data, index=False, header=True):\n",
    "        ws_dashboard_expenses.append(row)\n",
    "\n",
    "    # Add a table with total expenses, total income, and total savings\n",
    "    total_expenses_value = total_expenses.sum()\n",
    "\n",
    "    # Filter out categories with no income transactions\n",
    "    total_income = pivoted_income.sum()\n",
    "    total_income = total_income[total_income > 0]\n",
    "\n",
    "    total_income_value = total_income.sum()\n",
    "    total_savings_value = total_income_value - total_expenses_value\n",
    "\n",
    "    ws_dashboard_expenses.append([])  # Add an empty row\n",
    "    ws_dashboard_expenses.append([\"Total Expenses\", total_expenses_value])\n",
    "    ws_dashboard_expenses.append([\"Total Income\", total_income_value])\n",
    "    ws_dashboard_expenses.append([\"Total Savings (Credit - Debit)\", total_savings_value])\n",
    "\n",
    "    # Save the workbook with a filename indicating the time period\n",
    "    output_filename = f\"budget_{time_period}.xlsx\"\n",
    "    wb.save(output_filename)\n",
    "    print(f\"Budget Excel file for {time_period} period saved as {output_filename}\")"
   ]
  },
  {
   "cell_type": "code",
   "execution_count": 6,
   "id": "20fd0b69",
   "metadata": {},
   "outputs": [
    {
     "name": "stdout",
     "output_type": "stream",
     "text": [
      "Budget Excel file for W period saved as budget_W.xlsx\n",
      "Budget Excel file for M period saved as budget_M.xlsx\n",
      "Budget Excel file for Y period saved as budget_Y.xlsx\n"
     ]
    }
   ],
   "source": [
    "# Create budget Excel files and a dashboard sheet for different time periods\n",
    "create_budget_excel(expenses_df, income_df, 'W')  # Weekly\n",
    "create_budget_excel(expenses_df, income_df, 'M')  # Monthly\n",
    "create_budget_excel(expenses_df, income_df, 'Y')  # Yearly"
   ]
  }
 ],
 "metadata": {
  "kernelspec": {
   "display_name": "Python 3 (ipykernel)",
   "language": "python",
   "name": "python3"
  },
  "language_info": {
   "codemirror_mode": {
    "name": "ipython",
    "version": 3
   },
   "file_extension": ".py",
   "mimetype": "text/x-python",
   "name": "python",
   "nbconvert_exporter": "python",
   "pygments_lexer": "ipython3",
   "version": "3.11.5"
  }
 },
 "nbformat": 4,
 "nbformat_minor": 5
}
